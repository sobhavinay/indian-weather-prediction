{
 "cells": [
  {
   "cell_type": "markdown",
   "id": "882073f2",
   "metadata": {},
   "source": [
    "# Import Libraries"
   ]
  },
  {
   "cell_type": "code",
   "execution_count": null,
   "id": "d93ba635-c59e-48a3-81de-039dfc27ae94",
   "metadata": {},
   "outputs": [],
   "source": [
    "import pandas as pd\n",
    "import matplotlib.pyplot as plt\n",
    "import seaborn as sns\n",
    "import missingno \n",
    "import scipy \n",
    "import os\n",
    "import plotly.express as px \n",
    "import plotly.graph_objects as go\n",
    "from plotly.subplots import make_subplots\n",
    "for dirname, _, filenames in os.walk('/kaggle/input/'):\n",
    "    for filename in filenames:\n",
    "        print(os.path.join(dirname, filename))\n",
    "import warnings\n",
    "warnings.filterwarnings(\"ignore\")"
   ]
  },
  {
   "cell_type": "markdown",
   "id": "6038716d",
   "metadata": {},
   "source": [
    "# Load data:"
   ]
  },
  {
   "cell_type": "code",
   "execution_count": null,
   "id": "973afac3-b152-4115-b7ec-e2f176d12519",
   "metadata": {},
   "outputs": [],
   "source": [
    "weather_data = pd.read_csv(\"C:/Users/arshdeep/Desktop/STUDY MATERIAL/IndianWeatherRepository.csv\")\n",
    "weather_df= pd.read_csv(\"C:/Users/arshdeep/Desktop/STUDY MATERIAL/IndianWeatherRepository.csv\", index_col=0)"
   ]
  },
  {
   "cell_type": "markdown",
   "id": "8ec99cd5",
   "metadata": {},
   "source": [
    "# Data exploration and cleaning:"
   ]
  },
  {
   "cell_type": "code",
   "execution_count": null,
   "id": "dda18fb2-a699-4761-a52e-358687742aa0",
   "metadata": {},
   "outputs": [],
   "source": [
    "weather_data.describe()\n",
    "# Generate descriptive statistics\n",
    "desc_stats = weather_data.describe()\n",
    "# Print the descriptive statistics\n",
    "print(desc_stats)\n",
    "# Select numerical columns from the DataFrame\n",
    "weather_df = weather_data.select_dtypes(include='number')\n",
    "# Get the column names\n",
    "cols = weather_df.columns.values\n",
    "# Print the column names\n",
    "print(cols)\n",
    "weather_df.drop(['temperature_fahrenheit','wind_mph','pressure_in','precip_mm','feels_like_fahrenheit','visibility_km','gust_mph'], axis=1,inplace=True)\n",
    "weather_df.columns"
   ]
  },
  {
   "cell_type": "markdown",
   "id": "708446e7",
   "metadata": {},
   "source": [
    "# Data visualization:"
   ]
  },
  {
   "cell_type": "markdown",
   "id": "15bb6e7b",
   "metadata": {},
   "source": [
    "## a) Histograms"
   ]
  },
  {
   "cell_type": "code",
   "execution_count": null,
   "id": "c6bba10d",
   "metadata": {},
   "outputs": [],
   "source": [
    "\n",
    "weather_df.hist(bins=16, figsize=(20,15));"
   ]
  },
  {
   "cell_type": "markdown",
   "id": "0468535f",
   "metadata": {},
   "source": [
    "## b) Correlation Matrix"
   ]
  },
  {
   "cell_type": "code",
   "execution_count": null,
   "id": "2f787119-60b7-4623-ae20-e626511a045a",
   "metadata": {},
   "outputs": [],
   "source": [
    "#Creating a correlation matrix\n",
    "sns.set(font_scale=0.9)\n",
    "corr_matrix = weather_df.corr(method=\"kendall\")\n",
    "plt.figure(figsize=(14, 14))\n",
    "heatmap= sns.heatmap(corr_matrix, vmin=-1, vmax=1, annot=True,cmap='BrBG',annot_kws={\"fontsize\":4},linewidths=0.1)\n",
    "heatmap.set_title('Correlation Heatmap', fontdict={'fontsize':2}, pad=12);\n",
    "# Sort the correlation matrix and convert it to a DataFrame\n",
    "sorted_corr_mat = corr_matrix.abs().unstack().sort_values()\n",
    "sorted_corr_mat = sorted_corr_mat.to_frame(name=\"Correlation\")\n",
    "# Remove rows with correlation greater than 0.95 and less than 0.05\n",
    "sorted_corr_mat = sorted_corr_mat.drop(sorted_corr_mat[sorted_corr_mat['Correlation'] > 0.95].index)\n",
    "sorted_corr_mat = sorted_corr_mat.drop(sorted_corr_mat[sorted_corr_mat['Correlation'] < 0.05].index)\n",
    "# Store the rows with correlation greater than 0.80 in a variable\n",
    "high_corr = sorted_corr_mat[sorted_corr_mat['Correlation'] > 0.80]\n",
    "# Print the rows with correlation greater than 0.80\n",
    "print(\"Fields with max correlation are:\\n\")\n",
    "print(high_corr)"
   ]
  },
  {
   "cell_type": "markdown",
   "id": "b7d70b74",
   "metadata": {},
   "source": [
    "## c) Sunburst"
   ]
  },
  {
   "cell_type": "code",
   "execution_count": null,
   "id": "7783de2f-f8bb-4104-b466-3dab314e733c",
   "metadata": {},
   "outputs": [],
   "source": [
    "import pandas as pd\n",
    "import plotly.express as px\n",
    "weather_data = pd.read_csv(\"C:/Users/arshdeep/Desktop/STUDY MATERIAL/IndianWeatherRepository.csv\")\n",
    "grouped_data = weather_data.groupby(['country', 'region', 'location_name', 'air_quality_us-epa-index'])['uv_index'].mean().reset_index()\n",
    "\n",
    "fig = px.sunburst(grouped_data,\n",
    "                  path=['country', 'region','location_name','air_quality_us-epa-index' ],  # Added 'city' to the path\n",
    "                  values='uv_index',\n",
    "                  color='uv_index',\n",
    "                  color_continuous_scale=[ 'yellow','orange' 'red'],  # Specify a color scale from green to red\n",
    "                  title='Average UV Index by Location')\n",
    "\n",
    "fig.update_layout(autosize=False, width=1000, height=800)  # Set the size of the figure\n",
    "\n",
    "fig.show()"
   ]
  },
  {
   "cell_type": "markdown",
   "id": "79e4e14b",
   "metadata": {},
   "source": [
    "## d) Box Plot"
   ]
  },
  {
   "cell_type": "code",
   "execution_count": null,
   "id": "0a38ca83",
   "metadata": {},
   "outputs": [],
   "source": [
    "fig1 = px.box(weather_data, x='region', y='air_quality_PM2.5', color='region')\n",
    "fig1.update_layout(\n",
    "    title={'text': \"Average PM2.5 by State\", 'y':1.0, 'x':0.5, 'xanchor': 'center', 'yanchor': 'top'},\n",
    "    title_font=dict(size=32, color='rgb(107, 107, 107)', family=\"Courier New, monospace\"),\n",
    "    xaxis_title=\"Region\",\n",
    "    yaxis_title=\"Average PM2.5\",\n",
    "    xaxis=dict(tickangle=90)\n",
    ")\n",
    "fig1.show()"
   ]
  },
  {
   "cell_type": "markdown",
   "id": "d8a27bf3",
   "metadata": {},
   "source": [
    "## e) Scatter"
   ]
  },
  {
   "cell_type": "code",
   "execution_count": null,
   "id": "310a928a",
   "metadata": {},
   "outputs": [],
   "source": [
    "fig3 = px.scatter(weather_data, x='uv_index', y='temperature_celsius', color='region',\n",
    "                  title='Correlation Between UV Index and Temperature by Region',\n",
    "                  labels={'uv_index': 'UV Index', 'temperature_celsius': 'Temperature (Celsius)'})\n",
    "fig3.update_layout(xaxis_title='UV Index', yaxis_title='Temperature (Celsius)')\n",
    "fig3.show()"
   ]
  },
  {
   "cell_type": "markdown",
   "id": "097f44b6",
   "metadata": {},
   "source": [
    "## f) Bar Graph"
   ]
  },
  {
   "cell_type": "code",
   "execution_count": null,
   "id": "d5f6c7ff",
   "metadata": {},
   "outputs": [],
   "source": [
    "fig4 = px.bar(weather_data.groupby('region')['temperature_celsius'].mean().reset_index(),\n",
    "              x='region', y='temperature_celsius',\n",
    "              title='Average temperature exposure by State',\n",
    "              color='region')  # Assign a different color to each region\n",
    "fig4.update_layout(\n",
    "     title={'text': \"Average temperature exposure by State\", 'y':0.9, 'x':0.5, 'xanchor': 'center', 'yanchor': 'top'},\n",
    "    title_font=dict(size=32, color='rgb(107, 107, 107)', family=\"Courier New, monospace\"),\n",
    "    xaxis_title=\"Region\",\n",
    "    xaxis=dict(tickangle=90)\n",
    ")\n",
    "fig4.show()"
   ]
  },
  {
   "cell_type": "code",
   "execution_count": null,
   "id": "820f71c4",
   "metadata": {},
   "outputs": [],
   "source": [
    "fig5 = px.scatter(weather_data, x=\"temperature_celsius\", y=\"feels_like_celsius\", title=\"Temperature vs Feels-like Temperature\")\n",
    "fig5.show()"
   ]
  },
  {
   "cell_type": "markdown",
   "id": "e2ed25af",
   "metadata": {},
   "source": [
    "## g) Density Mapbox"
   ]
  },
  {
   "cell_type": "code",
   "execution_count": null,
   "id": "3070d2dd",
   "metadata": {},
   "outputs": [],
   "source": [
    "fig6 = px.density_mapbox(weather_data, lat=\"latitude\", lon=\"longitude\", z=\"temperature_celsius\", radius=11,\n",
    "                         title=\"Location-wise Temperature Heatmap\")\n",
    "fig6.update_layout(mapbox_style=\"open-street-map\")\n",
    "fig6.show()"
   ]
  },
  {
   "cell_type": "markdown",
   "id": "d476b2fd",
   "metadata": {},
   "source": [
    "### e.1) Scatter Polar"
   ]
  },
  {
   "cell_type": "code",
   "execution_count": null,
   "id": "e2ccce74",
   "metadata": {},
   "outputs": [],
   "source": [
    "fig7 = px.scatter_polar(weather_data, r=\"wind_mph\", theta=\"wind_direction\", title=\"Wind Speed vs Wind Direction\")\n",
    "fig7.show()"
   ]
  },
  {
   "cell_type": "markdown",
   "id": "307b31c8",
   "metadata": {},
   "source": [
    "## h) Sns Boxplot"
   ]
  },
  {
   "cell_type": "code",
   "execution_count": null,
   "id": "bd3962b6",
   "metadata": {},
   "outputs": [],
   "source": [
    "# Temperature range\n",
    "plt.figure(figsize=(10, 10))\n",
    "temp_range = sns.boxplot(data=weather_data, y='region', x='temperature_celsius', \n",
    "                         palette='rainbow',  # Set the color of the boxes\n",
    "                         flierprops={'marker': '*', 'markersize': 2, 'markerfacecolor': 'blue'})\n",
    "temp_range.set_title(\"Temperature range\")\n",
    "\n",
    "plt.show()"
   ]
  },
  {
   "cell_type": "code",
   "execution_count": null,
   "id": "dbe7ca92",
   "metadata": {},
   "outputs": [],
   "source": [
    "from sklearn import linear_model\n",
    "from sklearn.preprocessing import StandardScaler\n",
    "scale = StandardScaler()\n",
    "temp_weather=weather_data\n",
    "# Scatter Plots for Air Quality Metrics vs Temperature\n",
    "air_quality_metrics = ['air_quality_Carbon_Monoxide', 'air_quality_Ozone', 'air_quality_Nitrogen_dioxide', \n",
    "                       'air_quality_Sulphur_dioxide']\n",
    "plt.figure(figsize=(16, 16))\n",
    "plt.subplot(2, 2, 1)\n",
    "plt.plot( \"temperature_celsius\",\"air_quality_Carbon_Monoxide\", data=temp_weather,color=\"lightblue\",marker='o',ms=\"5\",ls = '',label=\"CO\")\n",
    "plt.xlabel(\"Temperature\")\n",
    "plt.ylabel(\"CO\")\n",
    "plt.subplot(2, 2, 2)\n",
    "plt.plot( \"temperature_celsius\",\"air_quality_Ozone\", data=temp_weather,color=\"r\",marker\n",
    "         ='*',ms=\"5\",ls = '',label=\"Ozone\")\n",
    "plt.xlabel(\"Temperature\")\n",
    "plt.ylabel(\"Ozone\")\n",
    "plt.subplot(2, 2, 3)\n",
    "plt.plot( \"temperature_celsius\",\"air_quality_Nitrogen_dioxide\", data=temp_weather,color=\"green\",marker='s',ms=\"5\",ls = '',label=\"NO2\")\n",
    "plt.xlabel(\"Temperature\")\n",
    "plt.ylabel(\"NO2\")\n",
    "plt.subplot(2, 2, 4)\n",
    "plt.plot( \"temperature_celsius\",\"air_quality_Sulphur_dioxide\", data=temp_weather,color=\"m\",marker='^',ms=\"5\",ls = '',label=\"SO2\")\n",
    "plt.xlabel(\"Temperature\")\n",
    "plt.ylabel(\"SO2\")\n",
    "plt.show()"
   ]
  },
  {
   "cell_type": "markdown",
   "id": "d5c996c0",
   "metadata": {},
   "source": [
    "## i) Graph"
   ]
  },
  {
   "cell_type": "code",
   "execution_count": null,
   "id": "0bb3ad2c",
   "metadata": {},
   "outputs": [],
   "source": [
    "weather_df = pd.read_csv('C:/Users/arshdeep/Desktop/STUDY MATERIAL/IndianWeatherRepository.csv')\n",
    "weather_df['last_updated'] = pd.to_datetime(weather_df['last_updated'])\n",
    "import plotly.graph_objects as go\n",
    "\n",
    "# Highest temperature over time\n",
    "highest_temp_df = weather_df[weather_df.groupby(['last_updated'])['temperature_celsius'].transform(max) == weather_df['temperature_celsius']]\n",
    "\n",
    "# Lowest temperature over time\n",
    "lowest_temp_df = weather_df[weather_df.groupby(['last_updated'])['temperature_celsius'].transform(min) == weather_df['temperature_celsius']]\n",
    "\n",
    "# Plot highest and lowest temperature over time, along with PM2.5 level\n",
    "fig = go.Figure()\n",
    "\n",
    "# Line plot for temperatures\n",
    "fig.add_trace(go.Scatter(x=weather_df['last_updated'], y=weather_df['temperature_celsius'], mode='lines', name='Temperature (°C)'))\n",
    "\n",
    "# Markers for highest temperatures\n",
    "fig.add_trace(go.Scatter(x=highest_temp_df['last_updated'], y=highest_temp_df['temperature_celsius'], mode='markers', name='Highest Temp (°C)', \n",
    "                         text=highest_temp_df['air_quality_PM2.5'].apply(lambda x: f'PM2.5: {x}'),\n",
    "                         hoverinfo='x+y+text'))\n",
    "\n",
    "# Markers for lowest temperatures\n",
    "fig.add_trace(go.Scatter(x=lowest_temp_df['last_updated'], y=lowest_temp_df['temperature_celsius'], mode='markers', name='Lowest Temp (°C)', \n",
    "                         text=lowest_temp_df['air_quality_PM2.5'].apply(lambda x: f'PM2.5: {x}'),\n",
    "                         hoverinfo='x+y+text'))\n",
    "\n",
    "fig.update_layout(title='Highest and Lowest Temperature Over Time with PM2.5 Level',\n",
    "                  xaxis_title='Date',\n",
    "                  yaxis_title='Temperature (°C)')\n",
    "\n",
    "fig.show()"
   ]
  },
  {
   "cell_type": "markdown",
   "id": "1a5b4bdb",
   "metadata": {},
   "source": [
    "# MACHINE LEARNING"
   ]
  },
  {
   "cell_type": "code",
   "execution_count": null,
   "id": "9ae73fb2",
   "metadata": {},
   "outputs": [],
   "source": [
    "temperature_data = weather_df['temperature_celsius']\n",
    "temperature_factors = weather_df[['latitude','longitude','wind_kph','wind_degree','pressure_mb','precip_in','humidity','cloud']]\n",
    "from sklearn.model_selection import train_test_split\n",
    "from sklearn.metrics import r2_score\n",
    "\n",
    "x_train, x_test, y_train, y_test = train_test_split(temperature_factors, temperature_data, test_size = 0.4, random_state = 0)\n",
    "#shapes of splitted data\n",
    "print(\"X_train:\",x_train.shape)\n",
    "print(\"X_test:\", x_test.shape)\n",
    "print(\"Y_train:\", y_train.shape)\n",
    "print(\"Y_test:\", y_test.shape)\n",
    "from typing import Tuple\n",
    "X_train: Tuple[int, int] = (52971, 8)\n",
    "X_test: Tuple[int, int] = (22702, 8)\n",
    "Y_train: Tuple[int] = (52971,)\n",
    "Y_test: Tuple[int] = (22702,)"
   ]
  },
  {
   "cell_type": "markdown",
   "id": "bd5f715b",
   "metadata": {},
   "source": [
    "## Temperatures"
   ]
  },
  {
   "cell_type": "code",
   "execution_count": null,
   "id": "6e33792e",
   "metadata": {},
   "outputs": [],
   "source": [
    "from sklearn.model_selection import train_test_split\n",
    "from sklearn.metrics import mean_squared_error, mean_absolute_error, r2_score\n",
    "from sklearn.ensemble import GradientBoostingRegressor, RandomForestRegressor\n",
    "from sklearn.linear_model import LinearRegression, Lasso, Ridge\n",
    "from xgboost import XGBRegressor\n",
    "from math import sqrt\n",
    "import matplotlib.pyplot as plt\n",
    "\n",
    "# Split data\n",
    "x_train, x_test, y_train, y_test = train_test_split(temperature_factors, temperature_data, test_size = 0.4, random_state = 0)\n",
    "print(\"********TEMPERATURE IN CELSIUS*********\")\n",
    "# Define models\n",
    "models = [\n",
    "    {\"name\": \"Linear Regression\", \"model\": LinearRegression()},\n",
    "    {\"name\": \"Lasso\", \"model\": Lasso(alpha=0.1)},\n",
    "    {\"name\": \"Ridge\", \"model\": Ridge(alpha=0.1)},\n",
    "    {\"name\": \"Gradient Boosting\", \"model\": GradientBoostingRegressor()},\n",
    "    {\"name\": \"Random Forest\", \"model\": RandomForestRegressor()},\n",
    "    {\"name\": \"XGBoost\", \"model\": XGBRegressor()}\n",
    "]\n",
    "\n",
    "# Initialize lists to store scores\n",
    "mse_scores, rmse_scores, mae_scores, r2_scores = [], [], [], []\n",
    "\n",
    "# Initialize dictionary to store mse values\n",
    "mse_dict = {}\n",
    "\n",
    "# Train models, make predictions, calculate errors\n",
    "for model_info in models:\n",
    "    model = model_info[\"model\"]\n",
    "    model.fit(x_train, y_train)\n",
    "    y_pred = model.predict(x_test)\n",
    "    mse_scores.append(mean_squared_error(y_test, y_pred))\n",
    "    rmse_scores.append(sqrt(mse_scores[-1]))\n",
    "    mae_scores.append(mean_absolute_error(y_test, y_pred))\n",
    "    r2_scores.append(r2_score(y_test, y_pred))\n",
    "    print(f\"{model_info['name']}'s R2: {r2_scores[-1]:.2f}, MSE: {mse_scores[-1]:.2f}, RMSE: {rmse_scores[-1]:.2f}, MAE: {mae_scores[-1]:.2f}\")\n",
    "\n",
    "    # Store mse value in dictionary with model name as key\n",
    "    mse_dict[model_info['name']] = mse_scores[-1]"
   ]
  },
  {
   "cell_type": "code",
   "execution_count": null,
   "id": "abb9f10e",
   "metadata": {},
   "outputs": [],
   "source": [
    "# Plotting\n",
    "fig, ax1 = plt.subplots()\n",
    "ax1.set_xlabel('Models')\n",
    "ax1.set_ylabel('R2', color='tab:blue')\n",
    "ax1.bar([model_info['name'] for model_info in models], r2_scores, color='tab:blue')\n",
    "ax1.tick_params(axis='y', labelcolor='tab:blue')\n",
    "\n",
    "ax2 = ax1.twinx()  \n",
    "ax2.set_ylabel('MSE', color='tab:red')  \n",
    "ax2.plot([model_info['name'] for model_info in models], mse_scores, color='tab:red')\n",
    "ax2.tick_params(axis='y', labelcolor='tab:red')\n",
    "\n",
    "fig.tight_layout()  \n",
    "plt.show()\n",
    "\n"
   ]
  },
  {
   "cell_type": "code",
   "execution_count": null,
   "id": "34e1c7ea",
   "metadata": {},
   "outputs": [],
   "source": [
    "# Print the dictionary of mse values\n",
    "print(\"********MSE VALUES*********\")\n",
    "print(mse_dict)"
   ]
  },
  {
   "cell_type": "markdown",
   "id": "073409e1",
   "metadata": {},
   "source": [
    "## Feels Like Temperature"
   ]
  },
  {
   "cell_type": "code",
   "execution_count": null,
   "id": "0c839165",
   "metadata": {},
   "outputs": [],
   "source": [
    "print(\"********FEELS LIKE TEMPERATURE IN CELSIUS********\")\n",
    "feels_like_data = weather_df['feels_like_celsius']\n",
    "feels_like_factors = weather_df[['latitude','longitude','wind_kph','wind_degree','pressure_mb','precip_in','humidity','cloud']]\n",
    "\n",
    "# Split data\n",
    "x_train, x_test, y_train, y_test = train_test_split(feels_like_factors, feels_like_data, test_size = 0.4, random_state = 0)\n",
    "\n",
    "# Define models\n",
    "models = [\n",
    "    {\"name\": \"Linear Regression\", \"model\": LinearRegression()},\n",
    "    {\"name\": \"Lasso\", \"model\": Lasso(alpha=0.1)},\n",
    "    {\"name\": \"Ridge\", \"model\": Ridge(alpha=0.1)},\n",
    "    {\"name\": \"Gradient Boosting\", \"model\": GradientBoostingRegressor()},\n",
    "    {\"name\": \"Random Forest\", \"model\": RandomForestRegressor()},\n",
    "    {\"name\": \"XGBoost\", \"model\": XGBRegressor()}\n",
    "]\n",
    "\n",
    "# Initialize lists to store scores\n",
    "mse_scores, rmse_scores, mae_scores, r2_scores = [], [], [], []\n",
    "\n",
    "# Initialize dictionary to store mse values\n",
    "feels_like_mse_dict = {}\n",
    "\n",
    "# Train models, make predictions, calculate errors\n",
    "for model_info in models:\n",
    "    model = model_info[\"model\"]\n",
    "    model.fit(x_train, y_train)\n",
    "    y_pred = model.predict(x_test)\n",
    "    mse_scores.append(mean_squared_error(y_test, y_pred))\n",
    "    rmse_scores.append(sqrt(mse_scores[-1]))\n",
    "    mae_scores.append(mean_absolute_error(y_test, y_pred))\n",
    "    r2_scores.append(r2_score(y_test, y_pred))\n",
    "    print(f\"{model_info['name']}'s R2: {r2_scores[-1]:.2f}, MSE: {mse_scores[-1]:.2f}, RMSE: {rmse_scores[-1]:.2f}, MAE: {mae_scores[-1]:.2f}\")\n",
    "\n",
    "    # Store mse value in dictionary with model name as key\n",
    "    feels_like_mse_dict[model_info['name']] = mse_scores[-1]"
   ]
  },
  {
   "cell_type": "code",
   "execution_count": null,
   "id": "6f73670a",
   "metadata": {},
   "outputs": [],
   "source": [
    "# Plotting\n",
    "fig, ax1 = plt.subplots()\n",
    "ax1.set_xlabel('Models')\n",
    "ax1.set_ylabel('R2', color='tab:blue')\n",
    "ax1.bar([model_info['name'] for model_info in models], r2_scores, color='tab:blue')\n",
    "ax1.tick_params(axis='y', labelcolor='tab:blue')\n",
    "\n",
    "ax2 = ax1.twinx()  \n",
    "ax2.set_ylabel('MSE', color='tab:red')  \n",
    "ax2.plot([model_info['name'] for model_info in models], mse_scores, color='tab:red')\n",
    "ax2.tick_params(axis='y', labelcolor='tab:red')\n",
    "\n",
    "fig.tight_layout()  \n",
    "plt.show()\n"
   ]
  },
  {
   "cell_type": "code",
   "execution_count": null,
   "id": "427ee7a3",
   "metadata": {},
   "outputs": [],
   "source": [
    "\n",
    "# Print the dictionary of mse values\n",
    "print(\"********MSE VALUES*********\")\n",
    "print(feels_like_mse_dict)"
   ]
  },
  {
   "cell_type": "markdown",
   "id": "61b75f47",
   "metadata": {},
   "source": [
    "## Cloud"
   ]
  },
  {
   "cell_type": "code",
   "execution_count": null,
   "id": "e07405a4",
   "metadata": {},
   "outputs": [],
   "source": [
    "print(\"********CLOUD********\")\n",
    "cloud_data = weather_df['cloud']\n",
    "cloud_factors = weather_df[['latitude','longitude','wind_kph','wind_degree','pressure_mb','precip_in','humidity','temperature_celsius']]\n",
    "\n",
    "# Split the data\n",
    "x_train, x_test, y_train, y_test = train_test_split(cloud_factors, cloud_data, test_size = 0.4, random_state = 0)\n",
    "\n",
    "# Define the models\n",
    "models = [\n",
    "    {\"name\": \"Linear Regression\", \"model\": LinearRegression()},\n",
    "    {\"name\": \"Lasso\", \"model\": Lasso(alpha=0.1)},\n",
    "    {\"name\": \"Ridge\", \"model\": Ridge(alpha=0.1)},\n",
    "    {\"name\": \"Gradient Boosting\", \"model\": GradientBoostingRegressor()},\n",
    "    {\"name\": \"Random Forest\", \"model\": RandomForestRegressor()},\n",
    "    {\"name\": \"XGBoost\", \"model\": XGBRegressor()}\n",
    "]\n",
    "\n",
    "# Initialize lists to store scores\n",
    "mse_scores, rmse_scores, mae_scores, r2_scores = [], [], [], []\n",
    "\n",
    "# Initialize dictionary to store mse values\n",
    "cloud_mse_dict = {}\n",
    "\n",
    "# Train models, make predictions, calculate errors\n",
    "for model_info in models:\n",
    "    model = model_info[\"model\"]\n",
    "    model.fit(x_train, y_train)\n",
    "    y_pred = model.predict(x_test)\n",
    "    mse_scores.append(mean_squared_error(y_test, y_pred))\n",
    "    rmse_scores.append(sqrt(mse_scores[-1]))\n",
    "    mae_scores.append(mean_absolute_error(y_test, y_pred))\n",
    "    r2_scores.append(r2_score(y_test, y_pred))\n",
    "    print(f\"{model_info['name']}'s R2: {r2_scores[-1]:.2f}, MSE: {mse_scores[-1]:.2f}, RMSE: {rmse_scores[-1]:.2f}, MAE: {mae_scores[-1]:.2f}\")\n",
    "\n",
    "    # Store mse value in dictionary with model name as key\n",
    "    cloud_mse_dict[model_info['name']] = mse_scores[-1]\n"
   ]
  },
  {
   "cell_type": "code",
   "execution_count": null,
   "id": "84c3ef74",
   "metadata": {},
   "outputs": [],
   "source": [
    "# Plotting\n",
    "fig, ax1 = plt.subplots()\n",
    "ax1.set_xlabel('Models')\n",
    "ax1.set_ylabel('R2', color='tab:blue')\n",
    "ax1.bar([model_info['name'] for model_info in models], r2_scores, color='tab:blue')\n",
    "ax1.tick_params(axis='y', labelcolor='tab:blue')\n",
    "\n",
    "ax2 = ax1.twinx()  \n",
    "ax2.set_ylabel('MSE', color='tab:red')  \n",
    "ax2.plot([model_info['name'] for model_info in models], mse_scores, color='tab:red')\n",
    "ax2.tick_params(axis='y', labelcolor='tab:red')\n",
    "\n",
    "fig.tight_layout()  \n",
    "plt.show()\n",
    "\n"
   ]
  },
  {
   "cell_type": "code",
   "execution_count": null,
   "id": "5371ec11",
   "metadata": {},
   "outputs": [],
   "source": [
    "# Print the dictionary of mse values\n",
    "print(\"********MSE VALUES*********\")\n",
    "print(cloud_mse_dict)"
   ]
  },
  {
   "cell_type": "code",
   "execution_count": null,
   "id": "6e608961",
   "metadata": {},
   "outputs": [],
   "source": [
    "# Convert the dictionaries into dataframes\n",
    "mse_df = pd.DataFrame.from_dict(mse_dict, orient='index', columns=['mse'])\n",
    "feels_like_mse_df = pd.DataFrame.from_dict(feels_like_mse_dict, orient='index', columns=['mse'])\n",
    "cloud_mse_df = pd.DataFrame.from_dict(cloud_mse_dict, orient='index', columns=['mse'])\n",
    "print(\"MEAN SQUARED Error for temperature in celsius\\n\")\n",
    "print(mse_df)\n",
    "print(\"MEAN SQUARED Error for feels like temperature in celsius\\n\")\n",
    "print(feels_like_mse_df)\n",
    "print(\"MEAN SQUARED Error for cloud\\n\")\n",
    "print(cloud_mse_df)"
   ]
  },
  {
   "cell_type": "markdown",
   "id": "cdb2bcb4",
   "metadata": {},
   "source": [
    "# Comparison of Different Mean Squared Errors"
   ]
  },
  {
   "cell_type": "code",
   "execution_count": null,
   "id": "f9b917f9",
   "metadata": {},
   "outputs": [],
   "source": [
    "# Plot a line graph for the mse values\n",
    "plt.figure(figsize=(10, 6))\n",
    "plt.plot(mse_df, label='Temperature mse')\n",
    "plt.plot(feels_like_mse_df, label='Feels_like_temperature mse')\n",
    "plt.plot(cloud_mse_df, label='Cloud_mse')\n",
    "plt.xlabel('Models')\n",
    "plt.ylabel('MSE')\n",
    "plt.title('Line graph of MSE values for different models and targets')\n",
    "plt.legend()\n",
    "plt.show()"
   ]
  },
  {
   "cell_type": "code",
   "execution_count": null,
   "id": "99a1b875",
   "metadata": {},
   "outputs": [],
   "source": [
    "# Plot a pie chart for the mse values\n",
    "plt.figure(figsize=(10, 6))\n",
    "plt.pie(mse_df['mse'], labels=mse_df.index, autopct='%1.1f%%', startangle=90)\n",
    "plt.title('Pie chart of MSE values for different models and target=mse')\n",
    "plt.show()"
   ]
  }
 ],
 "metadata": {
  "kernelspec": {
   "display_name": "Python 3 (ipykernel)",
   "language": "python",
   "name": "python3"
  },
  "language_info": {
   "codemirror_mode": {
    "name": "ipython",
    "version": 3
   },
   "file_extension": ".py",
   "mimetype": "text/x-python",
   "name": "python",
   "nbconvert_exporter": "python",
   "pygments_lexer": "ipython3",
   "version": "3.11.8"
  }
 },
 "nbformat": 4,
 "nbformat_minor": 5
}
